{
  "cells": [
    {
      "cell_type": "markdown",
      "metadata": {},
      "source": [
        "### 1)"
      ]
    },
    {
      "cell_type": "code",
      "execution_count": 17,
      "metadata": {
        "colab": {
          "base_uri": "https://localhost:8080/"
        },
        "id": "IIuHCLt0FCuE",
        "outputId": "ca854dbc-0dcd-4754-c84d-cf009c2caa13"
      },
      "outputs": [
        {
          "name": "stdout",
          "output_type": "stream",
          "text": [
            "                     Global_active_power  Global_reactive_power  Voltage  \\\n",
            "DataTime                                                                   \n",
            "2006-12-16 17:24:00                4.216                  0.418   234.84   \n",
            "2006-12-16 17:25:00                5.360                  0.436   233.63   \n",
            "2006-12-16 17:26:00                5.374                  0.498   233.29   \n",
            "2006-12-16 17:27:00                5.388                  0.502   233.74   \n",
            "2006-12-16 17:28:00                3.666                  0.528   235.68   \n",
            "2006-12-16 17:29:00                3.520                  0.522   235.02   \n",
            "2006-12-16 17:30:00                3.702                  0.520   235.09   \n",
            "2006-12-16 17:31:00                3.700                  0.520   235.22   \n",
            "2006-12-16 17:32:00                3.668                  0.510   233.99   \n",
            "2006-12-16 17:33:00                3.662                  0.510   233.86   \n",
            "\n",
            "                     Global_intensity  Sub_metering_1  Sub_metering_2  \\\n",
            "DataTime                                                                \n",
            "2006-12-16 17:24:00              18.4             0.0             1.0   \n",
            "2006-12-16 17:25:00              23.0             0.0             1.0   \n",
            "2006-12-16 17:26:00              23.0             0.0             2.0   \n",
            "2006-12-16 17:27:00              23.0             0.0             1.0   \n",
            "2006-12-16 17:28:00              15.8             0.0             1.0   \n",
            "2006-12-16 17:29:00              15.0             0.0             2.0   \n",
            "2006-12-16 17:30:00              15.8             0.0             1.0   \n",
            "2006-12-16 17:31:00              15.8             0.0             1.0   \n",
            "2006-12-16 17:32:00              15.8             0.0             1.0   \n",
            "2006-12-16 17:33:00              15.8             0.0             2.0   \n",
            "\n",
            "                     Sub_metering_3  Outros_Consumos_Wh  \n",
            "DataTime                                                 \n",
            "2006-12-16 17:24:00            17.0           52.266667  \n",
            "2006-12-16 17:25:00            16.0           72.333333  \n",
            "2006-12-16 17:26:00            17.0           70.566667  \n",
            "2006-12-16 17:27:00            17.0           71.800000  \n",
            "2006-12-16 17:28:00            17.0           43.100000  \n",
            "2006-12-16 17:29:00            17.0           39.666667  \n",
            "2006-12-16 17:30:00            17.0           43.700000  \n",
            "2006-12-16 17:31:00            17.0           43.666667  \n",
            "2006-12-16 17:32:00            17.0           43.133333  \n",
            "2006-12-16 17:33:00            16.0           43.033333  \n"
          ]
        }
      ],
      "source": [
        "import pandas as pd\n",
        "import numpy as np\n",
        "\n",
        "# 1. Ler o dataset\n",
        "household_df = pd.read_csv(\n",
        "    \"household_power_consumption.txt\",\n",
        "    sep=\";\",                # separador usado no arquivo\n",
        "    na_values=\"?\",           # \"?\" indica valor ausente\n",
        "    dtype={'Global_active_power': 'float64',\n",
        "           'Global_reactive_power': 'float64',\n",
        "           'Voltage': 'float64',\n",
        "           'Global_intensity': 'float64',\n",
        "           'Sub_metering_1': 'float64',\n",
        "           'Sub_metering_2': 'float64',\n",
        "           'Sub_metering_3': 'float64'}\n",
        ")\n",
        "\n",
        "\n",
        "\n",
        "# 2. Criar coluna DataTime\n",
        "household_df['DataTime'] = pd.to_datetime(\n",
        "    household_df['Date'] + ' ' + household_df['Time'],\n",
        "    format='%d/%m/%Y %H:%M:%S'\n",
        ")\n",
        "\n",
        "# 3. Remover colunas antigas\n",
        "household_df.drop(['Date', 'Time'], axis=1, inplace=True)\n",
        "\n",
        "# 4. Definir DataTime como índice\n",
        "household_df.set_index('DataTime', inplace=True)\n",
        "\n",
        "# 5. Criar coluna com consumo de aparelhos não medidos\n",
        "household_df['Outros_Consumos_Wh'] = (\n",
        "    household_df['Global_active_power'] * 1000 / 60\n",
        "    - household_df['Sub_metering_1']\n",
        "    - household_df['Sub_metering_2']\n",
        "    - household_df['Sub_metering_3']\n",
        ")\n",
        "\n",
        "# 6. Mostrar primeiras linhas\n",
        "print(household_df.head(10))\n"
      ]
    },
    {
      "cell_type": "markdown",
      "metadata": {},
      "source": [
        "### 2) \n",
        "\n",
        "$Global$ $Active$ $Power$ ou potência ativa, é a energia que realiza o trabalho. É a parte da energia elétrica que é convertida em outras formas de energia, como calor, luz, etc.\n",
        "\n",
        "\n",
        "$Global$ $Reactive$ $Power$ ou potência reativa é a energia que não realiza trabalho útil. Ela cria e mantém os campos eletromagnéticos em equipamentos indutivos e capacitivos.\n"
      ]
    },
    {
      "cell_type": "markdown",
      "metadata": {},
      "source": [
        "### 3)"
      ]
    },
    {
      "cell_type": "code",
      "execution_count": 8,
      "metadata": {},
      "outputs": [
        {
          "name": "stdout",
          "output_type": "stream",
          "text": [
            "Quantidade de valores ausentes por coluna:\n",
            "Global_active_power      25979\n",
            "Global_reactive_power    25979\n",
            "Voltage                  25979\n",
            "Global_intensity         25979\n",
            "Sub_metering_1           25979\n",
            "Sub_metering_2           25979\n",
            "Sub_metering_3           25979\n",
            "Outros_Consumos_Wh       25979\n",
            "dtype: int64\n"
          ]
        }
      ],
      "source": [
        "\n",
        "household_df.replace('?', np.nan, inplace=True)\n",
        "\n",
        "# Conta os valores nulos (NaN) em cada coluna\n",
        "valores_ausentes = household_df.isnull().sum()\n",
        "\n",
        "# Filtra para mostrar só as colunas que têm valores ausentes\n",
        "quantidade_valores_ausentes = valores_ausentes[valores_ausentes > 0]\n",
        "\n",
        "\n",
        "if not quantidade_valores_ausentes.empty:\n",
        "    print(\"Quantidade de valores ausentes por coluna:\")\n",
        "    print(quantidade_valores_ausentes)\n",
        "else:\n",
        "    print(\"Não tem valores ausentes\")"
      ]
    },
    {
      "cell_type": "code",
      "execution_count": 6,
      "metadata": {
        "colab": {
          "base_uri": "https://localhost:8080/"
        },
        "id": "cBKUkykKVgvm",
        "outputId": "d8e93ec3-864e-455b-df99-5d47970a0543"
      },
      "outputs": [
        {
          "name": "stdout",
          "output_type": "stream",
          "text": [
            "            Potência Ativa Média (kW)  Potência Reativa Média (kW)  \\\n",
            "DataTime                                                             \n",
            "2006-12-16                   3.053475                     0.088187   \n",
            "2006-12-17                   2.354486                     0.156949   \n",
            "2006-12-18                   1.530435                     0.112356   \n",
            "2006-12-19                   1.157079                     0.104821   \n",
            "2006-12-20                   1.545658                     0.111804   \n",
            "...                               ...                          ...   \n",
            "2007-03-21                   1.487564                     0.099188   \n",
            "2007-03-22                   1.010401                     0.079046   \n",
            "2007-03-23                   0.909033                     0.082978   \n",
            "2007-03-24                   2.061410                     0.132656   \n",
            "2007-03-25                   2.318363                     0.163983   \n",
            "\n",
            "            Tensão Média (V)  Corrente Média (A)  Consumo Cozinha (Wh)  \\\n",
            "DataTime                                                                 \n",
            "2006-12-16        236.243763           13.082828                   0.0   \n",
            "2006-12-17        240.087028            9.999028                2033.0   \n",
            "2006-12-18        241.231694            6.421667                1063.0   \n",
            "2006-12-19        241.999313            4.926389                 839.0   \n",
            "2006-12-20        242.308062            6.467361                   0.0   \n",
            "...                      ...                 ...                   ...   \n",
            "2007-03-21        240.986646            6.237222                1865.0   \n",
            "2007-03-22        241.763528            4.223056                 353.0   \n",
            "2007-03-23        241.645479            3.803750                1127.0   \n",
            "2007-03-24        239.704472            8.703333                3707.0   \n",
            "2007-03-25        240.032759            9.722307                4630.0   \n",
            "\n",
            "            Consumo Lavanderia (Wh)  Consumo Aquecimento/Ar (Wh)  \\\n",
            "DataTime                                                           \n",
            "2006-12-16                    546.0                       4926.0   \n",
            "2006-12-17                   4187.0                      13341.0   \n",
            "2006-12-18                   2621.0                      14018.0   \n",
            "2006-12-19                   7602.0                       6197.0   \n",
            "2006-12-20                   2648.0                      14063.0   \n",
            "...                             ...                          ...   \n",
            "2007-03-21                   4133.0                      12335.0   \n",
            "2007-03-22                    736.0                      10462.0   \n",
            "2007-03-23                    777.0                       8369.0   \n",
            "2007-03-24                   5797.0                      16382.0   \n",
            "2007-03-25                   3600.0                       9358.0   \n",
            "\n",
            "            Outros Consumos (Wh)  \n",
            "DataTime                          \n",
            "2006-12-16          14680.933333  \n",
            "2006-12-17          36946.666667  \n",
            "2006-12-18          19028.433333  \n",
            "2006-12-19          13131.900000  \n",
            "2006-12-20          20384.800000  \n",
            "...                          ...  \n",
            "2007-03-21          17368.533333  \n",
            "2007-03-22          12698.633333  \n",
            "2007-03-23          11543.800000  \n",
            "2007-03-24          23587.833333  \n",
            "2007-03-25          38014.066667  \n",
            "\n",
            "[100 rows x 8 columns]\n"
          ]
        }
      ],
      "source": [
        "# Criar tabela de resumo diário\n",
        "resumo_diario = household_df.resample('D').agg({\n",
        "    'Global_active_power': 'mean',\n",
        "    'Global_reactive_power': 'mean',\n",
        "    'Voltage': 'mean',\n",
        "    'Global_intensity': 'mean',\n",
        "    'Sub_metering_1': 'sum',\n",
        "    'Sub_metering_2': 'sum',\n",
        "    'Sub_metering_3': 'sum',\n",
        "    'Outros_Consumos_Wh': 'sum'\n",
        "})\n",
        "\n",
        "# Renomear colunas para facilitar leitura\n",
        "resumo_diario.rename(columns={\n",
        "    'Global_active_power': 'Potência Ativa Média (kW)',\n",
        "    'Global_reactive_power': 'Potência Reativa Média (kW)',\n",
        "    'Voltage': 'Tensão Média (V)',\n",
        "    'Global_intensity': 'Corrente Média (A)',\n",
        "    'Sub_metering_1': 'Consumo Cozinha (Wh)',\n",
        "    'Sub_metering_2': 'Consumo Lavanderia (Wh)',\n",
        "    'Sub_metering_3': 'Consumo Aquecimento/Ar (Wh)',\n",
        "    'Outros_Consumos_Wh': 'Outros Consumos (Wh)'\n",
        "}, inplace=True)\n",
        "\n",
        "# Exibir tabela\n",
        "print(resumo_diario.head(100))  # mostra os primeiros 10 dias\n"
      ]
    }
  ],
  "metadata": {
    "colab": {
      "provenance": []
    },
    "kernelspec": {
      "display_name": "Python 3",
      "name": "python3"
    },
    "language_info": {
      "codemirror_mode": {
        "name": "ipython",
        "version": 3
      },
      "file_extension": ".py",
      "mimetype": "text/x-python",
      "name": "python",
      "nbconvert_exporter": "python",
      "pygments_lexer": "ipython3",
      "version": "3.13.5"
    }
  },
  "nbformat": 4,
  "nbformat_minor": 0
}
